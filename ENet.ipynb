{
  "nbformat": 4,
  "nbformat_minor": 0,
  "metadata": {
    "colab": {
      "name": "ENet.ipynb",
      "version": "0.3.2",
      "provenance": []
    },
    "kernelspec": {
      "name": "python3",
      "display_name": "Python 3"
    }
  },
  "cells": [
    {
      "metadata": {
        "id": "6KfA49eMjaOH",
        "colab_type": "code",
        "outputId": "e7ac62e2-bc1a-4cf2-9ea6-64b3c2935ad5",
        "colab": {
          "base_uri": "https://localhost:8080/",
          "height": 384
        }
      },
      "cell_type": "code",
      "source": [
        "!pip install torch torchvision"
      ],
      "execution_count": 2,
      "outputs": [
        {
          "output_type": "stream",
          "text": [
            "Collecting torch\n",
            "\u001b[?25l  Downloading https://files.pythonhosted.org/packages/7e/60/66415660aa46b23b5e1b72bc762e816736ce8d7260213e22365af51e8f9c/torch-1.0.0-cp36-cp36m-manylinux1_x86_64.whl (591.8MB)\n",
            "\u001b[K    100% |████████████████████████████████| 591.8MB 26kB/s \n",
            "tcmalloc: large alloc 1073750016 bytes == 0x60e26000 @  0x7f586fcdc2a4 0x591a07 0x5b5d56 0x502e9a 0x506859 0x502209 0x502f3d 0x506859 0x504c28 0x502540 0x502f3d 0x506859 0x504c28 0x502540 0x502f3d 0x506859 0x504c28 0x502540 0x502f3d 0x507641 0x502209 0x502f3d 0x506859 0x504c28 0x502540 0x502f3d 0x507641 0x504c28 0x502540 0x502f3d 0x507641\n",
            "\u001b[?25hCollecting torchvision\n",
            "\u001b[?25l  Downloading https://files.pythonhosted.org/packages/ca/0d/f00b2885711e08bd71242ebe7b96561e6f6d01fdb4b9dcf4d37e2e13c5e1/torchvision-0.2.1-py2.py3-none-any.whl (54kB)\n",
            "\u001b[K    100% |████████████████████████████████| 61kB 24.0MB/s \n",
            "\u001b[?25hRequirement already satisfied: six in /usr/local/lib/python3.6/dist-packages (from torchvision) (1.11.0)\n",
            "Collecting pillow>=4.1.1 (from torchvision)\n",
            "\u001b[?25l  Downloading https://files.pythonhosted.org/packages/85/5e/e91792f198bbc5a0d7d3055ad552bc4062942d27eaf75c3e2783cf64eae5/Pillow-5.4.1-cp36-cp36m-manylinux1_x86_64.whl (2.0MB)\n",
            "\u001b[K    100% |████████████████████████████████| 2.0MB 6.1MB/s \n",
            "\u001b[?25hRequirement already satisfied: numpy in /usr/local/lib/python3.6/dist-packages (from torchvision) (1.14.6)\n",
            "Installing collected packages: torch, pillow, torchvision\n",
            "  Found existing installation: Pillow 4.0.0\n",
            "    Uninstalling Pillow-4.0.0:\n",
            "      Successfully uninstalled Pillow-4.0.0\n",
            "Successfully installed pillow-5.4.1 torch-1.0.0 torchvision-0.2.1\n",
            "\u001b[0;31;1mWARNING: The following packages were previously imported in this runtime:\n",
            "  [PIL]\n",
            "You must restart the runtime in order to use newly installed versions.\u001b[0m\n"
          ],
          "name": "stdout"
        }
      ]
    },
    {
      "metadata": {
        "id": "VcU98cbVppiu",
        "colab_type": "code",
        "colab": {}
      },
      "cell_type": "code",
      "source": [
        "# Load zip from Google Drive\n",
        "from google.colab import drive\n",
        "drive.mount('/content/gdrive')\n",
        "!unzip gdrive/My\\ Drive/data_semantics.zip"
      ],
      "execution_count": 0,
      "outputs": []
    },
    {
      "metadata": {
        "id": "5NCTHdEqj317",
        "colab_type": "code",
        "colab": {}
      },
      "cell_type": "code",
      "source": [
        "import torch\n",
        "import torch.nn as nn\n",
        "import torch.nn.functional as F\n",
        "import numpy as np"
      ],
      "execution_count": 0,
      "outputs": []
    },
    {
      "metadata": {
        "id": "kNhlY6tmlDav",
        "colab_type": "code",
        "colab": {}
      },
      "cell_type": "code",
      "source": [
        "def model():\n",
        "    # Intial Block\n",
        "    \n",
        "    # Stage 1\n",
        "    \n",
        "    # Stage 2\n",
        "    \n",
        "    # Stage 3\n",
        "    \n",
        "    # Stage 4\n",
        "    \n",
        "    # Stage 5\n",
        "    \n",
        "    return model"
      ],
      "execution_count": 0,
      "outputs": []
    },
    {
      "metadata": {
        "id": "sTvK1Khwlhuo",
        "colab_type": "code",
        "colab": {}
      },
      "cell_type": "code",
      "source": [
        "class ENet(nn.Module):\n",
        "    \n",
        "    def __init__(self):\n",
        "        \n",
        "        self.i_conv = nn.Conv2d(in_channels = 3, \n",
        "                                out_channels = 13, \n",
        "                                kernel_size = 3,\n",
        "                                stride = 2,\n",
        "                                bias = True)\n",
        "        \n",
        "        self.i_maxpool = nn.MaxPool2d(kernel_size=2,\n",
        "                                      stride = None, # and thus stride = 2, which makes it non-overlapping\n",
        "                                      padding = 0)\n",
        "        \n",
        "        \n",
        "        ########### B 1.0 Side Branch ####################\n",
        "        self.conv1_1_0 = nn.Conv2d(in_channels = 16,\n",
        "                                    out_channels = 64, # THIS NEEDS CHECK\n",
        "                                    kernel_size = 2,\n",
        "                                    stride = 2,\n",
        "                                    padding = 0,\n",
        "                                    bias = False)\n",
        "        \n",
        "        self.prelu1_1_0 = nn.PReLU()\n",
        "        \n",
        "        self.conv2_1_0 = nn.Conv2d(in_channels = 64,\n",
        "                                    out_channels = 64, # THIS NEEDS CHECK\n",
        "                                    kernel_size = 3,\n",
        "                                    stride = 1,\n",
        "                                    padding = 1,\n",
        "                                    bias = True)\n",
        "        \n",
        "        self.prelu2_1_0 = nn.PReLU()\n",
        "        \n",
        "        self.conv3_1_0 = nn.Conv2d(in_channels = 64,\n",
        "                                    out_channels = 64,\n",
        "                                    kernel_size = 1,\n",
        "                                    stride = 1,\n",
        "                                    bias = True)\n",
        "        \n",
        "        self.batchnorm_1_0 = nn.BatchNorm2d(num_features = 64)\n",
        "        \n",
        "        \n",
        "        ############ B 1.0 Main Branch ####################\n",
        "        self.maxpool_1_0 = nn.MaxPool2d(kernel_size = 2,\n",
        "                                        stride = 2,\n",
        "                                        padding = 0)\n",
        "        \n",
        "        self.prelu_1_0 = nn.PReLU()\n",
        "        \n",
        "        #########################################################\n",
        "        \n",
        "        ########### B 1.1 Side Branch ####################\n",
        "        self.conv1_2_0 = nn.Conv2d(in_channels = 16,\n",
        "                                    out_channels = 64, # THIS NEEDS CHECK\n",
        "                                    kernel_size = 2,\n",
        "                                    stride = 2,\n",
        "                                    padding = 0,\n",
        "                                    bias = False)\n",
        "        \n",
        "        self.prelu1_1_0 = nn.PReLU()\n",
        "        \n",
        "        self.conv2_1_0 = nn.Conv2d(in_channels = 64,\n",
        "                                    out_channels = 64, # THIS NEEDS CHECK\n",
        "                                    kernel_size = 3,\n",
        "                                    stride = 1,\n",
        "                                    padding = 1,\n",
        "                                    bias = True)\n",
        "        \n",
        "        self.prelu2_1_0 = nn.PReLU()\n",
        "        \n",
        "        self.conv3_1_0 = nn.Conv2d(in_channels = 64,\n",
        "                                    out_channels = 64,\n",
        "                                    kernel_size = 1,\n",
        "                                    stride = 1,\n",
        "                                    bias = True)\n",
        "        \n",
        "        self.batchnorm_1_0 = nn.BatchNorm2d(num_features = 64)\n",
        "        \n",
        "        \n",
        "        ############ B 1.0 Main Branch ####################\n",
        "        self.maxpool_1_0 = nn.MaxPool2d(kernel_size = 2,\n",
        "                                        stride = 2,\n",
        "                                        padding = 0)\n",
        "        \n",
        "        self.prelu_1_0 = nn.PReLU()\n",
        "        \n",
        "        \n",
        "    def forward(self, x):\n",
        "        \n",
        "        x_copy = x.clone()\n",
        "        \n",
        "        ### Initial Block ###\n",
        "        x1 = self.i_conv(x)\n",
        "        x2 = self.i_maxpool(x)\n",
        "        x = torch.cat((x1, x2), 2)\n",
        "        \n",
        "        ### Stage 1 ###\n",
        "        ## BottleNeck 1.0 ##\n",
        "        # Main Branch\n",
        "        x1 = self.maxpool_1_0(x)\n",
        "        # Side Branch\n",
        "        x2 = self.conv1_1_0(x)\n",
        "        x2 = self.batchnorm_1_0(x2)\n",
        "        x2 = self.prelu1_1_0(x2)\n",
        "        \n",
        "        x2 = self.conv2_1_0(x2)\n",
        "        x2 = self.batchnorm_1_0(x2)\n",
        "        x2 = self.prelu2_1_0(x2)\n",
        "        \n",
        "        x2 = self.conv3_1_0(x2)\n",
        "        \n",
        "        if np.random.random() <= 0.01:\n",
        "            x2 = torch.zeros_like(x2)\n",
        "            \n",
        "        # Concatenate\n",
        "        x = torch.cat((x1, x2), 2)\n",
        "        x = self.prelu_1_0(x)\n",
        "        \n",
        "        ## BottleNeck 1.1 ##\n",
        "        \n",
        "        ### Stage 2 ###"
      ],
      "execution_count": 0,
      "outputs": []
    },
    {
      "metadata": {
        "id": "FeRRrv7pegWn",
        "colab_type": "code",
        "colab": {
          "base_uri": "https://localhost:8080/",
          "height": 34
        },
        "outputId": "53f920c3-10c6-4d49-9af6-6c9b95b2d28a"
      },
      "cell_type": "code",
      "source": [
        "np.random.rand()\n",
        "x1 = torch.tensor([1, 2, 3])\n",
        "torch.zeros_like(x1)"
      ],
      "execution_count": 47,
      "outputs": [
        {
          "output_type": "execute_result",
          "data": {
            "text/plain": [
              "tensor([0, 0, 0])"
            ]
          },
          "metadata": {
            "tags": []
          },
          "execution_count": 47
        }
      ]
    },
    {
      "metadata": {
        "id": "_0AWcwkjpYzV",
        "colab_type": "code",
        "colab": {}
      },
      "cell_type": "code",
      "source": [
        "\n",
        "x1 = np.random.randn(2, 3, 13)\n",
        "x2 = np.random.randn(2, 3, 3)\n",
        "x3 = torch.cat((torch.from_numpy(x1), torch.from_numpy(x2)), 2)"
      ],
      "execution_count": 0,
      "outputs": []
    },
    {
      "metadata": {
        "id": "QHxSIauVqxZD",
        "colab_type": "code",
        "colab": {
          "base_uri": "https://localhost:8080/",
          "height": 52
        },
        "outputId": "bbcda077-e694-45ae-9a1e-7c5461f88479"
      },
      "cell_type": "code",
      "source": [
        "print (x1.shape)\n",
        "print (x2.shape)"
      ],
      "execution_count": 7,
      "outputs": [
        {
          "output_type": "stream",
          "text": [
            "(2, 3, 13)\n",
            "(2, 3, 3)\n"
          ],
          "name": "stdout"
        }
      ]
    },
    {
      "metadata": {
        "id": "0fFBHA95q5Oi",
        "colab_type": "code",
        "colab": {
          "base_uri": "https://localhost:8080/",
          "height": 34
        },
        "outputId": "33341718-abae-48a1-f29f-d9051cabe150"
      },
      "cell_type": "code",
      "source": [
        "print (x3.shape)"
      ],
      "execution_count": 12,
      "outputs": [
        {
          "output_type": "stream",
          "text": [
            "torch.Size([2, 3, 16])\n"
          ],
          "name": "stdout"
        }
      ]
    },
    {
      "metadata": {
        "id": "RujGBN2OrnKO",
        "colab_type": "code",
        "colab": {}
      },
      "cell_type": "code",
      "source": [
        ""
      ],
      "execution_count": 0,
      "outputs": []
    }
  ]
}