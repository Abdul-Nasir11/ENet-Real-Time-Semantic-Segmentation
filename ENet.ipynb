{
  "nbformat": 4,
  "nbformat_minor": 0,
  "metadata": {
    "colab": {
      "name": "ENet.ipynb",
      "version": "0.3.2",
      "provenance": [],
      "collapsed_sections": []
    },
    "kernelspec": {
      "name": "python3",
      "display_name": "Python 3"
    }
  },
  "cells": [
    {
      "metadata": {
        "id": "6KfA49eMjaOH",
        "colab_type": "code",
        "outputId": "fd967a90-8ca2-44e7-b6e2-4535b0de229c",
        "colab": {
          "base_uri": "https://localhost:8080/",
          "height": 138
        }
      },
      "cell_type": "code",
      "source": [
        "!pip install torch "
      ],
      "execution_count": 0,
      "outputs": [
        {
          "output_type": "stream",
          "text": [
            "Collecting torch\n",
            "\u001b[?25l  Downloading https://files.pythonhosted.org/packages/7e/60/66415660aa46b23b5e1b72bc762e816736ce8d7260213e22365af51e8f9c/torch-1.0.0-cp36-cp36m-manylinux1_x86_64.whl (591.8MB)\n",
            "\u001b[K    100% |████████████████████████████████| 591.8MB 26kB/s \n",
            "tcmalloc: large alloc 1073750016 bytes == 0x62038000 @  0x7f76d7c7f2a4 0x591a07 0x5b5d56 0x502e9a 0x506859 0x502209 0x502f3d 0x506859 0x504c28 0x502540 0x502f3d 0x506859 0x504c28 0x502540 0x502f3d 0x506859 0x504c28 0x502540 0x502f3d 0x507641 0x502209 0x502f3d 0x506859 0x504c28 0x502540 0x502f3d 0x507641 0x504c28 0x502540 0x502f3d 0x507641\n",
            "\u001b[?25hInstalling collected packages: torch\n",
            "Successfully installed torch-1.0.0\n"
          ],
          "name": "stdout"
        }
      ]
    },
    {
      "metadata": {
        "id": "VcU98cbVppiu",
        "colab_type": "code",
        "colab": {}
      },
      "cell_type": "code",
      "source": [
        "# Load zip from Google Drive\n",
        "from google.colab import drive\n",
        "drive.mount('/content/gdrive')\n",
        "!unzip gdrive/My\\ Drive/data_semantics.zip"
      ],
      "execution_count": 0,
      "outputs": []
    },
    {
      "metadata": {
        "id": "xDqgMFHnYvRO",
        "colab_type": "code",
        "colab": {}
      },
      "cell_type": "code",
      "source": [
        "!tar -xvzf gdrive/My\\ Drive/iccv09Data.tar.gz"
      ],
      "execution_count": 0,
      "outputs": []
    },
    {
      "metadata": {
        "id": "5NCTHdEqj317",
        "colab_type": "code",
        "colab": {}
      },
      "cell_type": "code",
      "source": [
        "import torch\n",
        "import torch.nn as nn\n",
        "import torch.nn.functional as F\n",
        "import numpy as np\n",
        "import matplotlib.pyplot as plt\n",
        "import cv2\n",
        "import os"
      ],
      "execution_count": 0,
      "outputs": []
    },
    {
      "metadata": {
        "id": "kqHUezLfPBwn",
        "colab_type": "code",
        "colab": {}
      },
      "cell_type": "code",
      "source": [
        "class InitialBlock(nn.Module):\n",
        "    def __init__ (self,in_channels = 3,out_channels = 13):\n",
        "        super().__init__()\n",
        "\n",
        "\n",
        "        self.maxpool = nn.MaxPool2d(kernel_size=2, \n",
        "                                      stride = 2, \n",
        "                                      padding = 0)\n",
        "\n",
        "        self.conv = nn.Conv2d(in_channels, \n",
        "                                out_channels,\n",
        "                                kernel_size = 3,\n",
        "                                stride = 2, \n",
        "                                padding = 1)\n",
        "\n",
        "        self.prelu = nn.PReLU()\n",
        "\n",
        "        self.batchnorm = nn.BatchNorm2d(out_channels)\n",
        "  \n",
        "    def forward(self, x):\n",
        "        \n",
        "        main = self.conv(x)\n",
        "        main = self.batchnorm(main)\n",
        "        main = self.prelu(main)\n",
        "        \n",
        "        side = self.maxpool(x)\n",
        "        \n",
        "        x = torch.cat((main, side), dim=1)\n",
        "        \n",
        "        return x"
      ],
      "execution_count": 0,
      "outputs": []
    },
    {
      "metadata": {
        "id": "X_J_VNMpAzDe",
        "colab_type": "code",
        "outputId": "6b25b90b-53de-476a-9b99-a0271fc0f7a6",
        "colab": {
          "base_uri": "https://localhost:8080/",
          "height": 50
        }
      },
      "cell_type": "code",
      "source": [
        "sample = torch.rand((1, 3, 512, 512))\n",
        "inet = InitialBlock()\n",
        "out = inet(sample)\n",
        "out.shape"
      ],
      "execution_count": 0,
      "outputs": [
        {
          "output_type": "stream",
          "text": [
            "torch.Size([1, 3, 512, 512]) <class 'torch.Tensor'>\n"
          ],
          "name": "stdout"
        },
        {
          "output_type": "execute_result",
          "data": {
            "text/plain": [
              "torch.Size([1, 16, 256, 256])"
            ]
          },
          "metadata": {
            "tags": []
          },
          "execution_count": 196
        }
      ]
    },
    {
      "metadata": {
        "id": "ERqXRpl_sfSE",
        "colab_type": "code",
        "colab": {}
      },
      "cell_type": "code",
      "source": [
        "class UBNeck(nn.Module):\n",
        "    def __init__(self, h, w, in_channels, out_channels, p=0.01):\n",
        "        \n",
        "        super().__init__()\n",
        "        \n",
        "        # Define class variables\n",
        "        self.in_channels = in_channels\n",
        "        self.out_channels = out_channels\n",
        "        self.h = h\n",
        "        self.w = w\n",
        "        \n",
        "        self.unpool = nn.MaxUnpool2d(kernel_size = 2)\n",
        "        \n",
        "        \n",
        "        self.main_conv = nn.Conv2d(in_channels = self.in_channels,\n",
        "                                           out_channels = self.out_channels,\n",
        "                                           kernel_size = 1)\n",
        "        \n",
        "        self.dropout = nn.Dropout2d(p=p)\n",
        "        \n",
        "        self.convt1 = nn.ConvTranspose2d(in_channels = self.in_channels,\n",
        "                               out_channels = self.out_channels,\n",
        "                               kernel_size = 1,\n",
        "                               padding = 0,\n",
        "                               bias = False)\n",
        "        \n",
        "        \n",
        "        self.prelu1 = nn.PReLU()\n",
        "        \n",
        "        self.convt2 = nn.ConvTranspose2d(in_channels = self.out_channels,\n",
        "                                  out_channels = self.out_channels,\n",
        "                                  kernel_size = 3,\n",
        "                                  stride = 2,\n",
        "                                  padding = 1,\n",
        "                                  output_padding = 1,\n",
        "                                  bias = True)\n",
        "        \n",
        "        self.prelu2 = nn.PReLU()\n",
        "        \n",
        "        self.convt3 = nn.ConvTranspose2d(in_channels = self.out_channels,\n",
        "                                  out_channels = self.out_channels,\n",
        "                                  kernel_size = 1,\n",
        "                                  padding = 0,\n",
        "                                  bias = False)\n",
        "        \n",
        "        self.prelu3 = nn.PReLU()\n",
        "        \n",
        "        self.batchnorm = nn.BatchNorm2d(self.out_channels)\n",
        "        \n",
        "    def forward(self, x, indices):\n",
        "        x_copy = x.clone()\n",
        "        \n",
        "        # Side Branch\n",
        "        x = self.convt1(x)\n",
        "        x = self.batchnorm(x)\n",
        "        x = self.prelu1(x)\n",
        "        \n",
        "        x = self.convt2(x)\n",
        "        x = self.batchnorm(x)\n",
        "        x = self.prelu2(x)\n",
        "        \n",
        "        x = self.convt3(x)\n",
        "        x = self.batchnorm(x)\n",
        "        \n",
        "        x = self.dropout(x)\n",
        "        \n",
        "        # Main Branch\n",
        "        \n",
        "        x_copy = self.main_conv(x_copy)\n",
        "        x_copy = self.unpool(x_copy, indices, output_size=x.size())\n",
        "        \n",
        "        # Concat\n",
        "        x = x + x_copy\n",
        "        x = self.prelu3(x)\n",
        "        \n",
        "        return x"
      ],
      "execution_count": 0,
      "outputs": []
    },
    {
      "metadata": {
        "id": "w85_A-1rLL_j",
        "colab_type": "code",
        "outputId": "6b20ec26-816d-4ce2-8ee0-8e977cb09f03",
        "colab": {
          "base_uri": "https://localhost:8080/",
          "height": 347
        }
      },
      "cell_type": "code",
      "source": [
        "sample = torch.rand((1, 128, 64, 64))\n",
        "inet = UBNeck(64, 64, 128, 64)\n",
        "out = inet(sample)\n",
        "out.shape"
      ],
      "execution_count": 0,
      "outputs": [
        {
          "output_type": "error",
          "ename": "TypeError",
          "evalue": "ignored",
          "traceback": [
            "\u001b[0;31m---------------------------------------------------------------------------\u001b[0m",
            "\u001b[0;31mTypeError\u001b[0m                                 Traceback (most recent call last)",
            "\u001b[0;32m<ipython-input-60-0ae7778ef29f>\u001b[0m in \u001b[0;36m<module>\u001b[0;34m()\u001b[0m\n\u001b[1;32m      1\u001b[0m \u001b[0msample\u001b[0m \u001b[0;34m=\u001b[0m \u001b[0mtorch\u001b[0m\u001b[0;34m.\u001b[0m\u001b[0mrand\u001b[0m\u001b[0;34m(\u001b[0m\u001b[0;34m(\u001b[0m\u001b[0;36m1\u001b[0m\u001b[0;34m,\u001b[0m \u001b[0;36m128\u001b[0m\u001b[0;34m,\u001b[0m \u001b[0;36m64\u001b[0m\u001b[0;34m,\u001b[0m \u001b[0;36m64\u001b[0m\u001b[0;34m)\u001b[0m\u001b[0;34m)\u001b[0m\u001b[0;34m\u001b[0m\u001b[0;34m\u001b[0m\u001b[0m\n\u001b[1;32m      2\u001b[0m \u001b[0minet\u001b[0m \u001b[0;34m=\u001b[0m \u001b[0mUBNeck\u001b[0m\u001b[0;34m(\u001b[0m\u001b[0;36m64\u001b[0m\u001b[0;34m,\u001b[0m \u001b[0;36m64\u001b[0m\u001b[0;34m,\u001b[0m \u001b[0;36m128\u001b[0m\u001b[0;34m,\u001b[0m \u001b[0;36m64\u001b[0m\u001b[0;34m)\u001b[0m\u001b[0;34m\u001b[0m\u001b[0;34m\u001b[0m\u001b[0m\n\u001b[0;32m----> 3\u001b[0;31m \u001b[0mout\u001b[0m \u001b[0;34m=\u001b[0m \u001b[0minet\u001b[0m\u001b[0;34m(\u001b[0m\u001b[0msample\u001b[0m\u001b[0;34m)\u001b[0m\u001b[0;34m\u001b[0m\u001b[0;34m\u001b[0m\u001b[0m\n\u001b[0m\u001b[1;32m      4\u001b[0m \u001b[0mout\u001b[0m\u001b[0;34m.\u001b[0m\u001b[0mshape\u001b[0m\u001b[0;34m\u001b[0m\u001b[0;34m\u001b[0m\u001b[0m\n",
            "\u001b[0;32m/usr/local/lib/python3.6/dist-packages/torch/nn/modules/module.py\u001b[0m in \u001b[0;36m__call__\u001b[0;34m(self, *input, **kwargs)\u001b[0m\n\u001b[1;32m    487\u001b[0m             \u001b[0mresult\u001b[0m \u001b[0;34m=\u001b[0m \u001b[0mself\u001b[0m\u001b[0;34m.\u001b[0m\u001b[0m_slow_forward\u001b[0m\u001b[0;34m(\u001b[0m\u001b[0;34m*\u001b[0m\u001b[0minput\u001b[0m\u001b[0;34m,\u001b[0m \u001b[0;34m**\u001b[0m\u001b[0mkwargs\u001b[0m\u001b[0;34m)\u001b[0m\u001b[0;34m\u001b[0m\u001b[0;34m\u001b[0m\u001b[0m\n\u001b[1;32m    488\u001b[0m         \u001b[0;32melse\u001b[0m\u001b[0;34m:\u001b[0m\u001b[0;34m\u001b[0m\u001b[0;34m\u001b[0m\u001b[0m\n\u001b[0;32m--> 489\u001b[0;31m             \u001b[0mresult\u001b[0m \u001b[0;34m=\u001b[0m \u001b[0mself\u001b[0m\u001b[0;34m.\u001b[0m\u001b[0mforward\u001b[0m\u001b[0;34m(\u001b[0m\u001b[0;34m*\u001b[0m\u001b[0minput\u001b[0m\u001b[0;34m,\u001b[0m \u001b[0;34m**\u001b[0m\u001b[0mkwargs\u001b[0m\u001b[0;34m)\u001b[0m\u001b[0;34m\u001b[0m\u001b[0;34m\u001b[0m\u001b[0m\n\u001b[0m\u001b[1;32m    490\u001b[0m         \u001b[0;32mfor\u001b[0m \u001b[0mhook\u001b[0m \u001b[0;32min\u001b[0m \u001b[0mself\u001b[0m\u001b[0;34m.\u001b[0m\u001b[0m_forward_hooks\u001b[0m\u001b[0;34m.\u001b[0m\u001b[0mvalues\u001b[0m\u001b[0;34m(\u001b[0m\u001b[0;34m)\u001b[0m\u001b[0;34m:\u001b[0m\u001b[0;34m\u001b[0m\u001b[0;34m\u001b[0m\u001b[0m\n\u001b[1;32m    491\u001b[0m             \u001b[0mhook_result\u001b[0m \u001b[0;34m=\u001b[0m \u001b[0mhook\u001b[0m\u001b[0;34m(\u001b[0m\u001b[0mself\u001b[0m\u001b[0;34m,\u001b[0m \u001b[0minput\u001b[0m\u001b[0;34m,\u001b[0m \u001b[0mresult\u001b[0m\u001b[0;34m)\u001b[0m\u001b[0;34m\u001b[0m\u001b[0;34m\u001b[0m\u001b[0m\n",
            "\u001b[0;31mTypeError\u001b[0m: forward() missing 1 required positional argument: 'indices'"
          ]
        }
      ]
    },
    {
      "metadata": {
        "id": "r-nTIAS9bd9z",
        "colab_type": "code",
        "colab": {}
      },
      "cell_type": "code",
      "source": [
        "class RDDNeck(nn.Module):\n",
        "    def __init__(self, h, w, dilate, in_channels, out_channels, down_flag, p=0.1):\n",
        "        \n",
        "        super().__init__()\n",
        "        \n",
        "        # Define class variables\n",
        "        self.in_channels = in_channels\n",
        "        self.out_channels = out_channels\n",
        "        self.h = h\n",
        "        self.w = w\n",
        "        self.dilate = dilate\n",
        "        self.down_flag = down_flag\n",
        "\n",
        "        if down_flag:\n",
        "            self.stride = 2\n",
        "        else:\n",
        "            self.stride = 1\n",
        "          \n",
        "        \n",
        "        self.maxpool = nn.MaxPool2d(kernel_size = 2,\n",
        "                                      stride = 2,\n",
        "                                      padding = 0, return_indices=True)\n",
        "        \n",
        "\n",
        "        \n",
        "        self.dropout = nn.Dropout2d(p=p)\n",
        "        \n",
        "        self.conv1 = nn.Conv2d(in_channels = self.in_channels,\n",
        "                               out_channels = self.out_channels,\n",
        "                               kernel_size = 1,\n",
        "                               stride = 1,\n",
        "                               padding = 0,\n",
        "                               bias = False,\n",
        "                               dilation = 1)\n",
        "        \n",
        "        self.prelu1 = nn.PReLU()\n",
        "        \n",
        "        self.conv2 = nn.Conv2d(in_channels = self.out_channels,\n",
        "                                  out_channels = self.out_channels,\n",
        "                                  kernel_size = 3,\n",
        "                                  stride = self.stride,\n",
        "                                  padding = self.dilate,\n",
        "                                  bias = True,\n",
        "                                  dilation = self.dilate)\n",
        "        \n",
        "        self.prelu2 = nn.PReLU()\n",
        "        \n",
        "        self.conv3 = nn.Conv2d(in_channels = self.out_channels,\n",
        "                                  out_channels = self.out_channels,\n",
        "                                  kernel_size = 1,\n",
        "                                  stride = 1,\n",
        "                                  padding = 0,\n",
        "                                  bias = False,\n",
        "                                  dilation = 1)\n",
        "        \n",
        "        self.prelu3 = nn.PReLU()\n",
        "        \n",
        "        self.batchnorm = nn.BatchNorm2d(self.out_channels)\n",
        "        \n",
        "    def forward(self, x):\n",
        "        \n",
        "        bs = x.size()[0]\n",
        "        x_copy = x.clone()\n",
        "        \n",
        "        # Side Branch\n",
        "        x = self.conv1(x)\n",
        "        x = self.batchnorm(x)\n",
        "        x = self.prelu1(x)\n",
        "        \n",
        "        x = self.conv2(x)\n",
        "        x = self.batchnorm(x)\n",
        "        x = self.prelu2(x)\n",
        "        \n",
        "        x = self.conv3(x)\n",
        "        x = self.batchnorm(x)\n",
        "                \n",
        "        x = self.dropout(x)\n",
        "        \n",
        "        # Main Branch\n",
        "        \n",
        "        if self.down_flag:\n",
        "            x_copy, indices = self.maxpool(x_copy)\n",
        "          \n",
        "        if self.in_channels != self.out_channels:\n",
        "            out_shape = self.out_channels - self.in_channels\n",
        "            extras = torch.zeros((bs, out_shape, x.shape[2], x.shape[3]))\n",
        "            x_copy = torch.cat((x_copy, extras), dim = 1)\n",
        "        \n",
        "        # Sum of main and side branches\n",
        "        x = x + x_copy\n",
        "        x = self.prelu3(x)\n",
        "        \n",
        "        if self.down_flag:\n",
        "            return x, indices\n",
        "        else:\n",
        "            return x"
      ],
      "execution_count": 0,
      "outputs": []
    },
    {
      "metadata": {
        "id": "T3bNUN4XCnjp",
        "colab_type": "code",
        "outputId": "138fa675-2589-439e-8e45-200551ceed86",
        "colab": {
          "base_uri": "https://localhost:8080/",
          "height": 50
        }
      },
      "cell_type": "code",
      "source": [
        "sample = torch.rand((1, 64, 256, 256))\n",
        "inet = RDDNeck(256, 256, 1, 64, 64, False)\n",
        "out = inet(sample)\n",
        "out.shape"
      ],
      "execution_count": 0,
      "outputs": [
        {
          "output_type": "stream",
          "text": [
            "torch.Size([1, 64, 256, 256])\n"
          ],
          "name": "stdout"
        },
        {
          "output_type": "execute_result",
          "data": {
            "text/plain": [
              "torch.Size([1, 64, 256, 256])"
            ]
          },
          "metadata": {
            "tags": []
          },
          "execution_count": 213
        }
      ]
    },
    {
      "metadata": {
        "id": "tb_i1sCvtmMF",
        "colab_type": "code",
        "colab": {}
      },
      "cell_type": "code",
      "source": [
        "class ASNeck(nn.Module):\n",
        "    def __init__(self, h, w, in_channels, out_channels, p=0.01):\n",
        "        \n",
        "        super().__init__()\n",
        "        \n",
        "        # Define class variables\n",
        "        self.in_channels = in_channels\n",
        "        self.out_channels = out_channels\n",
        "        self.h = h\n",
        "        self.w = w\n",
        "        \n",
        "        self.dropout = nn.Dropout2d(p=p)\n",
        "        \n",
        "        self.conv1 = nn.Conv2d(in_channels = self.in_channels,\n",
        "                               out_channels = self.out_channels,\n",
        "                               kernel_size = 1,\n",
        "                               stride = 1,\n",
        "                               padding = 0,\n",
        "                               bias = False)\n",
        "        \n",
        "        self.prelu1 = nn.PReLU()\n",
        "        \n",
        "        self.conv21 = nn.Conv2d(in_channels = self.out_channels,\n",
        "                                  out_channels = self.out_channels,\n",
        "                                  kernel_size = (1, 5),\n",
        "                                  stride = 1,\n",
        "                                  padding = (0, 2),\n",
        "                                  bias = True)\n",
        "        \n",
        "        self.conv22 = nn.Conv2d(in_channels = self.out_channels,\n",
        "                                  out_channels = self.out_channels,\n",
        "                                  kernel_size = (5, 1),\n",
        "                                  stride = 1,\n",
        "                                  padding = (2, 0),\n",
        "                                  bias = True)\n",
        "        \n",
        "        self.prelu2 = nn.PReLU()\n",
        "        \n",
        "        self.conv3 = nn.Conv2d(in_channels = self.out_channels,\n",
        "                                  out_channels = self.out_channels,\n",
        "                                  kernel_size = 1,\n",
        "                                  stride = 1,\n",
        "                                  padding = 0,\n",
        "                                  bias = False)\n",
        "        \n",
        "        self.prelu3 = nn.PReLU()\n",
        "        \n",
        "        self.batchnorm = nn.BatchNorm2d(self.out_channels)\n",
        "        \n",
        "    def forward(self, x):\n",
        "        bs = x.size()[0]\n",
        "        x_copy = x.clone()\n",
        "        \n",
        "        # Side Branch\n",
        "        x = self.conv1(x)\n",
        "        x = self.batchnorm(x)\n",
        "        x = self.prelu1(x)\n",
        "        \n",
        "        x = self.conv21(x)\n",
        "        x = self.conv22(x)\n",
        "        x = self.batchnorm(x)\n",
        "        x = self.prelu2(x)\n",
        "        \n",
        "        x = self.conv3(x)\n",
        "        x = self.batchnorm(x)\n",
        "                \n",
        "        x = self.dropout(x)\n",
        "        \n",
        "        # Main Branch\n",
        "        \n",
        "        if self.in_channels != self.out_channels:\n",
        "            out_shape = self.out_channels - self.in_channels\n",
        "            extras = torch.zeros((bs, out_shape, x.shape[2], x.shape[3]))\n",
        "            x_copy = torch.cat((x_copy, extras), dim = 1)\n",
        "        \n",
        "        # Sum of main and side branches\n",
        "        x = x + x_copy\n",
        "        x = self.prelu3(x)\n",
        "        \n",
        "        return x"
      ],
      "execution_count": 0,
      "outputs": []
    },
    {
      "metadata": {
        "id": "ufUAU38MIRba",
        "colab_type": "code",
        "outputId": "fff1042d-e66b-4a8f-a407-f9fdf865d9fb",
        "colab": {
          "base_uri": "https://localhost:8080/",
          "height": 66
        }
      },
      "cell_type": "code",
      "source": [
        "sample = torch.rand((1, 64, 256, 256))\n",
        "inet = ASNeck(256, 256, 64, 128)\n",
        "out = inet(sample)\n",
        "out.shape"
      ],
      "execution_count": 0,
      "outputs": [
        {
          "output_type": "stream",
          "text": [
            "torch.Size([1, 64, 256, 256]) torch.Size([1, 64, 256, 256])\n",
            "torch.Size([1, 128, 256, 256]) torch.Size([1, 128, 256, 256])\n"
          ],
          "name": "stdout"
        },
        {
          "output_type": "execute_result",
          "data": {
            "text/plain": [
              "torch.Size([1, 128, 256, 256])"
            ]
          },
          "metadata": {
            "tags": []
          },
          "execution_count": 191
        }
      ]
    },
    {
      "metadata": {
        "id": "Z1pz_bve690y",
        "colab_type": "code",
        "colab": {}
      },
      "cell_type": "code",
      "source": [
        "class ENet(nn.Module):\n",
        "    def __init__(self, C):\n",
        "        super().__init__()\n",
        "        \n",
        "        # Define class variables\n",
        "        self.C = C\n",
        "        \n",
        "        self.init = InitialBlock()\n",
        "        \n",
        "        self.b10 = RDDNeck(256, 256, 1, 16, 64, True, 0.01)\n",
        "        self.b11 = RDDNeck(128, 128, 1, 64, 64, False, 0.01)\n",
        "        self.b12 = RDDNeck(128, 128, 1, 64, 64, False, 0.01)\n",
        "        self.b13 = RDDNeck(128, 128, 1, 64, 64, False, 0.01)\n",
        "        self.b14 = RDDNeck(128, 128, 1, 64, 64, False, 0.01)\n",
        "        \n",
        "        self.b20 = RDDNeck(128, 128, 1, 64, 128, True)\n",
        "        self.b21 = RDDNeck(64, 64, 1, 128, 128, False)\n",
        "        self.b22 = RDDNeck(64, 64, 2, 128, 128, False)\n",
        "        self.b23 = ASNeck(64, 64, 128, 128)\n",
        "        self.b24 = RDDNeck(64, 64, 4, 128, 128, False)\n",
        "        self.b25 = RDDNeck(64, 64, 1, 128, 128, False)\n",
        "        self.b26 = RDDNeck(64, 64, 8, 128, 128, False)\n",
        "        self.b27 = ASNeck(64, 64, 128, 128)\n",
        "        self.b28 = RDDNeck(64, 64, 16, 128, 128, False)\n",
        "        \n",
        "        self.b31 = RDDNeck(64, 64, 1, 128, 128, False)\n",
        "        self.b32 = RDDNeck(64, 64, 2, 128, 128, False)\n",
        "        self.b33 = ASNeck(64, 64, 128, 128)\n",
        "        self.b34 = RDDNeck(64, 64, 4, 128, 128, False)\n",
        "        self.b35 = RDDNeck(64, 64, 1, 128, 128, False)\n",
        "        self.b36 = RDDNeck(64, 64, 8, 128, 128, False)\n",
        "        self.b37 = ASNeck(64, 64, 128, 128)\n",
        "        self.b38 = RDDNeck(64, 64, 16, 128, 128, False)\n",
        "        \n",
        "        self.b40 = UBNeck(64, 64, 128, 64)\n",
        "        self.b41 = RDDNeck(128, 128, 1, 64, 64, False)\n",
        "        self.b42 = RDDNeck(128, 128, 1, 64, 64, False)\n",
        "        \n",
        "        self.b50 = UBNeck(128, 128, 64, 16)\n",
        "        self.b51 = RDDNeck(256, 256, 1, 16, 16, False)\n",
        "        \n",
        "        self.fullconv = nn.ConvTranspose2d(in_channels=16, \n",
        "                                           out_channels=self.C, \n",
        "                                           kernel_size=3, \n",
        "                                           stride=2, \n",
        "                                           padding=1, \n",
        "                                           output_padding=1)\n",
        "        \n",
        "        \n",
        "    def forward(self, x):\n",
        "        \n",
        "        x = self.init(x)\n",
        "        \n",
        "        x, i1 = self.b10(x)\n",
        "        x = self.b11(x)\n",
        "        x = self.b12(x)\n",
        "        x = self.b13(x)\n",
        "        x = self.b14(x)\n",
        "        \n",
        "        x, i2 = self.b20(x)\n",
        "        x = self.b21(x)\n",
        "        x = self.b22(x)\n",
        "        x = self.b23(x)\n",
        "        x = self.b24(x)\n",
        "        x = self.b25(x)\n",
        "        x = self.b26(x)\n",
        "        x = self.b27(x)\n",
        "        x = self.b28(x)\n",
        "        \n",
        "        x = self.b31(x)\n",
        "        x = self.b32(x)\n",
        "        x = self.b33(x)\n",
        "        x = self.b34(x)\n",
        "        x = self.b35(x)\n",
        "        x = self.b36(x)\n",
        "        x = self.b37(x)\n",
        "        x = self.b38(x)\n",
        "        \n",
        "        x = self.b40(x, i2)\n",
        "        x = self.b41(x)\n",
        "        x = self.b42(x)\n",
        "        \n",
        "        x = self.b50(x, i1)\n",
        "        x = self.b51(x)\n",
        "        \n",
        "        x = self.fullconv(x)\n",
        "        x = nn.functional.sigmoid(x)\n",
        "        \n",
        "        return x"
      ],
      "execution_count": 0,
      "outputs": []
    },
    {
      "metadata": {
        "id": "88NYeAopAOa8",
        "colab_type": "code",
        "outputId": "0cdd00a5-528f-4baf-f000-80f59337c989",
        "colab": {
          "base_uri": "https://localhost:8080/",
          "height": 33
        }
      },
      "cell_type": "code",
      "source": [
        "sample = torch.rand((1, 3, 512, 512))\n",
        "inet = ENet(10)\n",
        "out = inet(sample)\n",
        "out.shape"
      ],
      "execution_count": 0,
      "outputs": [
        {
          "output_type": "execute_result",
          "data": {
            "text/plain": [
              "torch.Size([1, 10, 512, 512])"
            ]
          },
          "metadata": {
            "tags": []
          },
          "execution_count": 141
        }
      ]
    },
    {
      "metadata": {
        "id": "ngJmr5HcSAB1",
        "colab_type": "code",
        "colab": {}
      },
      "cell_type": "code",
      "source": [
        "simg = plt.imread('./training/semantic_rgb/000059_10.png')"
      ],
      "execution_count": 0,
      "outputs": []
    },
    {
      "metadata": {
        "id": "RujGBN2OrnKO",
        "colab_type": "code",
        "colab": {}
      },
      "cell_type": "code",
      "source": [
        "def create_mask(img, color_map):\n",
        "  mask = []\n",
        "  for i in color_map:\n",
        "    color_img = []\n",
        "    for j in range(3):\n",
        "      color_img.append(np.ones((img.shape[:-1])) * i[j]) \n",
        "    \n",
        "    img2 = np.array(color_img, dtype=np.uint8).transpose(1, 2, 0)\n",
        "    \n",
        "    mask.append(np.uint8((img == img2).sum(axis = -1) == 3))\n",
        "  return np.array(mask)"
      ],
      "execution_count": 0,
      "outputs": []
    },
    {
      "metadata": {
        "id": "fW6FMqRi3B5X",
        "colab_type": "code",
        "colab": {}
      },
      "cell_type": "code",
      "source": [
        "color_map = [\n",
        "    (  0,  0,  0) ,\n",
        "    (111, 74,  0) ,\n",
        "    ( 81,  0, 81) ,\n",
        "    (128, 64,128) ,\n",
        "    (244, 35,232) ,\n",
        "    (250,170,160) ,\n",
        "    (230,150,140),\n",
        "    ( 70, 70, 70) ,\n",
        "    (102,102,156) ,\n",
        "    (190,153,153),\n",
        "    (180,165,180) ,\n",
        "    (150,100,100) ,\n",
        "    (150,120, 90) ,\n",
        "    (153,153,153) ,\n",
        "    (250,170, 30),\n",
        "    (220,220,  0),\n",
        "    (107,142, 35),\n",
        "    (152,251,152),\n",
        "    ( 70,130,180),\n",
        "    (220, 20, 60),\n",
        "    (255,  0,  0),\n",
        "    (  0,  0,142),\n",
        "    (  0,  0, 70),\n",
        "    (  0, 60,100),\n",
        "    (  0,  0, 90),\n",
        "    (  0,  0,110),\n",
        "    (  0, 80,100),\n",
        "    (  0,  0,230),\n",
        "    (119, 11, 32)\n",
        "]\n",
        "\n",
        "_mask = create_mask(img4, color_map)"
      ],
      "execution_count": 0,
      "outputs": []
    },
    {
      "metadata": {
        "id": "6Z8d1FEL7Dyi",
        "colab_type": "code",
        "outputId": "5cd44819-44a3-44d0-981f-b2a4ce25ea84",
        "colab": {
          "base_uri": "https://localhost:8080/",
          "height": 33
        }
      },
      "cell_type": "code",
      "source": [
        "len(set(color_map))"
      ],
      "execution_count": 0,
      "outputs": [
        {
          "output_type": "execute_result",
          "data": {
            "text/plain": [
              "29"
            ]
          },
          "metadata": {
            "tags": []
          },
          "execution_count": 176
        }
      ]
    },
    {
      "metadata": {
        "id": "lLCD_RZc4Klz",
        "colab_type": "code",
        "outputId": "898131b1-f990-44f9-e418-bae626ef75ea",
        "colab": {
          "base_uri": "https://localhost:8080/",
          "height": 33
        }
      },
      "cell_type": "code",
      "source": [
        "_mask.shape"
      ],
      "execution_count": 0,
      "outputs": [
        {
          "output_type": "execute_result",
          "data": {
            "text/plain": [
              "(30, 512, 512)"
            ]
          },
          "metadata": {
            "tags": []
          },
          "execution_count": 145
        }
      ]
    },
    {
      "metadata": {
        "id": "Tt2LE7ePeLdf",
        "colab_type": "code",
        "outputId": "0fcb4f3d-be6f-4a49-f469-c4b7281be413",
        "cellView": "both",
        "colab": {
          "base_uri": "https://localhost:8080/",
          "height": 578
        }
      },
      "cell_type": "code",
      "source": [
        "fig = plt.figure(figsize=(20, 10))\n",
        "plt.subplot(1, 2, 1)\n",
        "plt.axis('off')\n",
        "plt.imshow(1 - _mask[0, :, :])\n",
        "plt.subplot(1, 2, 2)\n",
        "plt.axis('off')\n",
        "plt.imshow(b)\n",
        "plt.show()"
      ],
      "execution_count": 0,
      "outputs": [
        {
          "output_type": "display_data",
          "data": {
            "image/png": "[encoded data removed]",
            "text/plain": [
              "<Figure size 1440x720 with 2 Axes>"
            ]
          },
          "metadata": {
            "tags": []
          }
        }
      ]
    },
    {
      "metadata": {
        "id": "8NLXwZKQDmNH",
        "colab_type": "code",
        "outputId": "fe20b1ba-1731-4b94-9cd5-a8ed17bad29c",
        "colab": {
          "base_uri": "https://localhost:8080/",
          "height": 33
        }
      },
      "cell_type": "code",
      "source": [
        "a[1, 1, :]"
      ],
      "execution_count": 0,
      "outputs": [
        {
          "output_type": "execute_result",
          "data": {
            "text/plain": [
              "array([ 35, 142, 107], dtype=uint8)"
            ]
          },
          "metadata": {
            "tags": []
          },
          "execution_count": 62
        }
      ]
    },
    {
      "metadata": {
        "id": "EuhP1vgU0lgd",
        "colab_type": "code",
        "colab": {}
      },
      "cell_type": "code",
      "source": [
        "def save_resized_imgs(ImageDirPath,save_path):\n",
        "  os.chdir(ImageDirPath)\n",
        "  if not os.path.exists(save_path):\n",
        "      os.makedirs(save_path)\n",
        "  for i in os.listdir():\n",
        "    if '.png' in i:\n",
        "      img = cv2.cvtColor(cv2.imread(i), cv2.COLOR_BGR2RGB)\n",
        "      img = cv2.cvtColor(cv2.resize(img,(512,512), cv2.INTER_CUBIC), cv2.COLOR_BGR2RGB)\n",
        "      cv2.imwrite(save_path + i.split('.')[0] + '_resized.png', img)"
      ],
      "execution_count": 0,
      "outputs": []
    },
    {
      "metadata": {
        "id": "ary60w4r9o8L",
        "colab_type": "code",
        "colab": {}
      },
      "cell_type": "code",
      "source": [
        "resize_path = '/content/resized_images/'"
      ],
      "execution_count": 0,
      "outputs": []
    },
    {
      "metadata": {
        "id": "wC8C6aVLt4NO",
        "colab_type": "code",
        "colab": {}
      },
      "cell_type": "code",
      "source": [
        "save_resized_imgs('/content/training/image_2/', resize_path)"
      ],
      "execution_count": 0,
      "outputs": []
    },
    {
      "metadata": {
        "id": "imLxAOTjuCXO",
        "colab_type": "code",
        "colab": {}
      },
      "cell_type": "code",
      "source": [
        "!rm -rf /content/sm_rz_img/"
      ],
      "execution_count": 0,
      "outputs": []
    },
    {
      "metadata": {
        "id": "xMK3oyGquVWJ",
        "colab_type": "code",
        "colab": {}
      },
      "cell_type": "code",
      "source": [
        "img1 = plt.imread('/content/training/image_2/000000_10.png')\n",
        "img2 = plt.imread('/content/resized_images/000000_10_resized.png')\n",
        "img3 = cv2.imread('/content/training/semantic_rgb/000000_10.png')\n",
        "img4 = plt.imread('/content/sm_rz_img/000000_10_resized.png')"
      ],
      "execution_count": 0,
      "outputs": []
    },
    {
      "metadata": {
        "id": "Vz8FqjqryVud",
        "colab_type": "code",
        "outputId": "e194565b-3c8b-4bb5-a0e4-8df9545845bb",
        "colab": {
          "base_uri": "https://localhost:8080/",
          "height": 367
        }
      },
      "cell_type": "code",
      "source": [
        "a = cv2.resize(img3, (512,512), cv2.INTER_CUBIC)\n",
        "plt.imshow(a)\n",
        "cv2.imwrite('/content/o.png', a)\n",
        "b = cv2.cvtColor(cv2.imread('/content/o.png'), cv2.COLOR_BGR2RGB)\n",
        "plt.imshow(b)"
      ],
      "execution_count": 0,
      "outputs": [
        {
          "output_type": "execute_result",
          "data": {
            "text/plain": [
              "<matplotlib.image.AxesImage at 0x7fbfa797e080>"
            ]
          },
          "metadata": {
            "tags": []
          },
          "execution_count": 56
        },
        {
          "output_type": "display_data",
          "data": {
            "image/png": "[encoded data removed]",
            "text/plain": [
              "<Figure size 576x396 with 1 Axes>"
            ]
          },
          "metadata": {
            "tags": []
          }
        }
      ]
    },
    {
      "metadata": {
        "id": "4bW7Z2xBvB7D",
        "colab_type": "code",
        "colab": {}
      },
      "cell_type": "code",
      "source": [
        "fig = plt.figure(figsize=(40, 10))\n",
        "plt.subplot(4, 1, 1)\n",
        "plt.axis('off')\n",
        "plt.imshow(img1)\n",
        "plt.subplot(4, 1, 2)\n",
        "plt.axis('off')\n",
        "plt.imshow(img3)\n",
        "plt.subplot(4, 1, 3)\n",
        "plt.axis('off')\n",
        "plt.imshow(img2)\n",
        "plt.subplot(4, 1, 4)\n",
        "plt.axis('off')\n",
        "plt.imshow(img4)\n",
        "#plt.imshow(cv2.resize(img3, (512,512), cv2.INTER_NEAREST))"
      ],
      "execution_count": 0,
      "outputs": []
    },
    {
      "metadata": {
        "id": "4NMZMMXcvF5E",
        "colab_type": "code",
        "outputId": "44cdb001-a0dd-43b3-e645-e25acd6c5170",
        "colab": {
          "base_uri": "https://localhost:8080/",
          "height": 33
        }
      },
      "cell_type": "code",
      "source": [
        "import os\n",
        "len(os.listdir('./training/image_2/'))"
      ],
      "execution_count": 0,
      "outputs": [
        {
          "output_type": "execute_result",
          "data": {
            "text/plain": [
              "200"
            ]
          },
          "metadata": {
            "tags": []
          },
          "execution_count": 5
        }
      ]
    },
    {
      "metadata": {
        "id": "ZAmVyQSC9F-v",
        "colab_type": "code",
        "colab": {}
      },
      "cell_type": "code",
      "source": [
        "os.chdir('../../')"
      ],
      "execution_count": 0,
      "outputs": []
    },
    {
      "metadata": {
        "id": "Uk2j8TCt-Qjz",
        "colab_type": "code",
        "colab": {}
      },
      "cell_type": "code",
      "source": [
        "!rm -rf ./training/semantic_rgb/sm_rz_img/"
      ],
      "execution_count": 0,
      "outputs": []
    },
    {
      "metadata": {
        "id": "H9O4O6aWyoTz",
        "colab_type": "code",
        "outputId": "1e9da778-4618-489e-cac3-92f77f2ca9b5",
        "colab": {
          "base_uri": "https://localhost:8080/",
          "height": 33
        }
      },
      "cell_type": "code",
      "source": [
        "img2_ = torch.from_numpy(img2)\n",
        "img2_ = img2_.unsqueeze(0)\n",
        "img2_ = torch.transpose(img2_, 1, 3)\n",
        "img2_.shape"
      ],
      "execution_count": 0,
      "outputs": [
        {
          "output_type": "execute_result",
          "data": {
            "text/plain": [
              "torch.Size([1, 3, 512, 512])"
            ]
          },
          "metadata": {
            "tags": []
          },
          "execution_count": 195
        }
      ]
    },
    {
      "metadata": {
        "id": "1SLwxAvwwweK",
        "colab_type": "code",
        "outputId": "86ad4de9-4e75-4ac4-f71c-7146dc479c77",
        "colab": {
          "base_uri": "https://localhost:8080/",
          "height": 86
        }
      },
      "cell_type": "code",
      "source": [
        "enet = ENet(29)\n",
        "a = enet(img2_)\n",
        "a.shape"
      ],
      "execution_count": 0,
      "outputs": [
        {
          "output_type": "stream",
          "text": [
            "/usr/local/lib/python3.6/dist-packages/torch/nn/functional.py:1332: UserWarning: nn.functional.sigmoid is deprecated. Use torch.sigmoid instead.\n",
            "  warnings.warn(\"nn.functional.sigmoid is deprecated. Use torch.sigmoid instead.\")\n"
          ],
          "name": "stderr"
        },
        {
          "output_type": "execute_result",
          "data": {
            "text/plain": [
              "torch.Size([1, 29, 512, 512])"
            ]
          },
          "metadata": {
            "tags": []
          },
          "execution_count": 202
        }
      ]
    },
    {
      "metadata": {
        "id": "4MwvlgXbylYf",
        "colab_type": "code",
        "outputId": "e62c7f1c-1bce-46f6-e961-32c515e16ead",
        "colab": {
          "base_uri": "https://localhost:8080/",
          "height": 33
        }
      },
      "cell_type": "code",
      "source": [
        "_mask = create_mask(img4, color_map)\n",
        "_mask1 = _mask.astype(np.float32)\n",
        "_mask = torch.tensor(_mask).unsqueeze(0)\n",
        "_mask.shape"
      ],
      "execution_count": 0,
      "outputs": [
        {
          "output_type": "execute_result",
          "data": {
            "text/plain": [
              "torch.Size([1, 29, 512, 512])"
            ]
          },
          "metadata": {
            "tags": []
          },
          "execution_count": 197
        }
      ]
    },
    {
      "metadata": {
        "id": "q8snvfWn4Vtv",
        "colab_type": "code",
        "outputId": "c7f58574-7285-445a-8532-5547d59cd41b",
        "colab": {
          "base_uri": "https://localhost:8080/",
          "height": 33
        }
      },
      "cell_type": "code",
      "source": [
        "criterion(torch.autograd.Variable(a.squeeze()), torch.autograd.Variable(torch.tensor(_mask1)))"
      ],
      "execution_count": 0,
      "outputs": [
        {
          "output_type": "execute_result",
          "data": {
            "text/plain": [
              "tensor(0.6718)"
            ]
          },
          "metadata": {
            "tags": []
          },
          "execution_count": 203
        }
      ]
    },
    {
      "metadata": {
        "id": "QnvvxmoM4gWI",
        "colab_type": "code",
        "colab": {}
      },
      "cell_type": "code",
      "source": [
        ""
      ],
      "execution_count": 0,
      "outputs": []
    },
    {
      "metadata": {
        "id": "1tbwgqqj4u6q",
        "colab_type": "code",
        "colab": {}
      },
      "cell_type": "code",
      "source": [
        ""
      ],
      "execution_count": 0,
      "outputs": []
    },
    {
      "metadata": {
        "id": "3UdSwlKiB27K",
        "colab_type": "code",
        "colab": {}
      },
      "cell_type": "code",
      "source": [
        "enet = ENet(29)"
      ],
      "execution_count": 0,
      "outputs": []
    },
    {
      "metadata": {
        "id": "DI9425iz7thP",
        "colab_type": "code",
        "colab": {}
      },
      "cell_type": "code",
      "source": [
        "epochs =1000\n",
        "lr = 0.01"
      ],
      "execution_count": 0,
      "outputs": []
    },
    {
      "metadata": {
        "id": "tV1nkgoBwsZa",
        "colab_type": "code",
        "colab": {}
      },
      "cell_type": "code",
      "source": [
        "criterion = nn.BCELoss()\n",
        "optimizer = torch.optim.Adam(enet.parameters(), lr=lr)"
      ],
      "execution_count": 0,
      "outputs": []
    },
    {
      "metadata": {
        "id": "o5a_7WDuB7ig",
        "colab_type": "code",
        "outputId": "4ae7ad04-2252-4971-fd82-35f69568ae8e",
        "colab": {
          "base_uri": "https://localhost:8080/",
          "height": 249
        }
      },
      "cell_type": "code",
      "source": [
        "\n",
        "TrainDataObj = TensorDataset(torch.from_numpy(X_train), torch.from_numpy(TrainLabels))\n",
        "TestDataObj = TensorDataset(torch.from_numpy(X_test), torch.from_numpy(TestLabels))\n",
        "trainloader = DataLoader(TrainDataObj, batch_size=16,\n",
        "                        shuffle=True, num_workers=4)\n",
        "testloader = DataLoader(TestDataObj, batch_size=16,\n",
        "                        shuffle=True, num_workers=4)"
      ],
      "execution_count": 0,
      "outputs": [
        {
          "output_type": "error",
          "ename": "NameError",
          "evalue": "ignored",
          "traceback": [
            "\u001b[0;31m---------------------------------------------------------------------------\u001b[0m",
            "\u001b[0;31mNameError\u001b[0m                                 Traceback (most recent call last)",
            "\u001b[0;32m<ipython-input-10-1cc098b32d83>\u001b[0m in \u001b[0;36m<module>\u001b[0;34m()\u001b[0m\n\u001b[1;32m      1\u001b[0m \u001b[0;34m\u001b[0m\u001b[0m\n\u001b[0;32m----> 2\u001b[0;31m \u001b[0mTrainDataObj\u001b[0m \u001b[0;34m=\u001b[0m \u001b[0mTensorDataset\u001b[0m\u001b[0;34m(\u001b[0m\u001b[0mtorch\u001b[0m\u001b[0;34m.\u001b[0m\u001b[0mfrom_numpy\u001b[0m\u001b[0;34m(\u001b[0m\u001b[0mX_train\u001b[0m\u001b[0;34m)\u001b[0m\u001b[0;34m,\u001b[0m \u001b[0mtorch\u001b[0m\u001b[0;34m.\u001b[0m\u001b[0mfrom_numpy\u001b[0m\u001b[0;34m(\u001b[0m\u001b[0mTrainLabels\u001b[0m\u001b[0;34m)\u001b[0m\u001b[0;34m)\u001b[0m\u001b[0;34m\u001b[0m\u001b[0;34m\u001b[0m\u001b[0m\n\u001b[0m\u001b[1;32m      3\u001b[0m \u001b[0mTestDataObj\u001b[0m \u001b[0;34m=\u001b[0m \u001b[0mTensorDataset\u001b[0m\u001b[0;34m(\u001b[0m\u001b[0mtorch\u001b[0m\u001b[0;34m.\u001b[0m\u001b[0mfrom_numpy\u001b[0m\u001b[0;34m(\u001b[0m\u001b[0mX_test\u001b[0m\u001b[0;34m)\u001b[0m\u001b[0;34m,\u001b[0m \u001b[0mtorch\u001b[0m\u001b[0;34m.\u001b[0m\u001b[0mfrom_numpy\u001b[0m\u001b[0;34m(\u001b[0m\u001b[0mTestLabels\u001b[0m\u001b[0;34m)\u001b[0m\u001b[0;34m)\u001b[0m\u001b[0;34m\u001b[0m\u001b[0;34m\u001b[0m\u001b[0m\n\u001b[1;32m      4\u001b[0m trainloader = DataLoader(TrainDataObj, batch_size=16,\n\u001b[1;32m      5\u001b[0m                         shuffle=True, num_workers=4)\n",
            "\u001b[0;31mNameError\u001b[0m: name 'X_train' is not defined"
          ]
        }
      ]
    },
    {
      "metadata": {
        "id": "d0Pn-LfhBWEh",
        "colab_type": "code",
        "colab": {}
      },
      "cell_type": "code",
      "source": [
        "cuda =  torch.cuda.is_available():\n",
        "\n",
        "print_every = 100\n",
        "train_losses = []\n",
        "\n",
        "\n",
        "if cuda:\n",
        "    enet.cuda()\n",
        "    \n",
        "enet.train()\n",
        "\n",
        "for e in range(epochs):\n",
        "    for inputs, labels in trainloader:\n",
        "        if cuda:\n",
        "            inputs, labels = inputs.cuda(), labels.cuda()\n",
        "            \n",
        "        out = enet(inputs)\n",
        "        \n",
        "        enet.zero_grad()\n",
        "        \n",
        "        loss = criterion(inputs, labels)\n",
        "        loss.backward()\n",
        "        optimizer.step()\n",
        "        \n",
        "        \n",
        "        train_losses.append(loss)\n",
        "        \n",
        "        if print_every % e == 0:\n",
        "            print ('Epoch {}/{}'.format(e, epochs),\n",
        "                   'Loss {}'.format(loss))"
      ],
      "execution_count": 0,
      "outputs": []
    },
    {
      "metadata": {
        "id": "xA5oh85oEzHz",
        "colab_type": "code",
        "colab": {}
      },
      "cell_type": "code",
      "source": [
        "enet.eval()\n",
        "\n",
        "for e in range(epochs):\n",
        "    for inputs, labels in testloader:\n",
        "        if cuda:\n",
        "            inputs, labels = inputs.cuda(), labels.cuda()\n",
        "            \n",
        "        out = enet(inputs)\n",
        "        \n",
        "        enet.zero_grad()\n",
        "        \n",
        "        loss = criterion(inputs, labels)\n",
        "        loss.backward()\n",
        "        optimizer.step()\n",
        "        \n",
        "        \n",
        "        train_losses.append(loss)\n",
        "        \n",
        "        if print_every % e == 0:\n",
        "            print ('Epoch {}/{}'.format(e, epochs),\n",
        "                   'Loss {}'.format(loss))"
      ],
      "execution_count": 0,
      "outputs": []
    }
  ]
}